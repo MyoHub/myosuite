{
 "cells": [
  {
   "cell_type": "markdown",
   "metadata": {
    "pycharm": {
     "name": "#%% md\n"
    }
   },
   "source": [
    "If you just want to load and visualize the baseline, try this code."
   ]
  },
  {
   "cell_type": "code",
   "execution_count": 1,
   "metadata": {
    "pycharm": {
     "name": "#%%\n"
    }
   },
   "outputs": [
    {
     "name": "stdout",
     "output_type": "stream",
     "text": [
      "MyoSuite:> Registering Myo Envs\n"
     ]
    }
   ],
   "source": [
    "\n",
    "import gym, myosuite\n",
    "import deprl\n",
    "import gym"
   ]
  },
  {
   "cell_type": "code",
   "execution_count": 7,
   "metadata": {
    "pycharm": {
     "name": "#%%\n"
    }
   },
   "outputs": [],
   "source": [
    "T = 1000 # length of episode\n",
    "env = gym.make('myoLegWalk-v0')\n",
    "obs = env.reset()"
   ]
  },
  {
   "cell_type": "code",
   "execution_count": 8,
   "metadata": {
    "pycharm": {
     "name": "#%%\n"
    }
   },
   "outputs": [
    {
     "name": "stdout",
     "output_type": "stream",
     "text": [
      "\u001b[1m\u001b[32mLoading experiment from ./baselines_DEPRL/myoLegWalk_20230514/myoLeg\u001b[0m\n",
      "\u001b[1m\u001b[32mStochastic Switch-DEP. Paper version.\u001b[0m\n",
      "\u001b[1m\u001b[32m\n",
      "Loading weights from ./baselines_DEPRL/myoLegWalk_20230514/myoLeg/checkpoints/step_150000000.pt\u001b[0m\n",
      "\u001b[1m\u001b[32mLoading only actor weights.\u001b[0m\n",
      "Done!\n"
     ]
    }
   ],
   "source": [
    "policy = deprl.load_baseline(env)\n",
    "\n",
    "obs = env.reset()\n",
    "for _ in range(T):\n",
    "    action = policy(obs)\n",
    "    obs, rew, done, info = env.step(action)\n",
    "    if done:\n",
    "        break\n",
    "env.close()\n",
    "print('Done!')"
   ]
  },
  {
   "cell_type": "markdown",
   "metadata": {
    "pycharm": {
     "name": "#%% md\n"
    }
   },
   "source": [
    "If you want to load your own policy, replace `deprl.load_baseline(env)` with `deprl.load(path, env)`. This will automatically load it for you. We also provide more advanced commands like `python -m deprl.play --path /folder/` to setup a visualization script."
   ]
  },
  {
   "cell_type": "code",
   "execution_count": null,
   "metadata": {},
   "outputs": [],
   "source": []
  }
 ],
 "metadata": {
  "kernelspec": {
   "display_name": "deprl",
   "language": "python",
   "name": "deprl"
  },
  "language_info": {
   "codemirror_mode": {
    "name": "ipython",
    "version": 3
   },
   "file_extension": ".py",
   "mimetype": "text/x-python",
   "name": "python",
   "nbconvert_exporter": "python",
   "pygments_lexer": "ipython3",
   "version": "3.10.11"
  }
 },
 "nbformat": 4,
 "nbformat_minor": 4
}
