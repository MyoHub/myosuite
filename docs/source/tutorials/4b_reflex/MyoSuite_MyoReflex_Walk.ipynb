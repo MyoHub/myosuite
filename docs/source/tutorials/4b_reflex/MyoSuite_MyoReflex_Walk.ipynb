{
 "cells": [
  {
   "cell_type": "markdown",
   "id": "389edb67",
   "metadata": {},
   "source": [
    "## Reflex Controller Example"
   ]
  },
  {
   "cell_type": "code",
   "execution_count": null,
   "id": "46a5a2d1",
   "metadata": {},
   "outputs": [],
   "source": [
    "import ReflexCtrInterface\n",
    "import numpy as np\n",
    "import skvideo.io\n",
    "\n",
    "from base64 import b64encode\n",
    "from IPython.display import HTML\n",
    "\n",
    "def show_video(video_path, video_width = 500):\n",
    "    video_file = open(video_path, \"r+b\").read()\n",
    "    video_url = f\"data:video/mp4;base64,{b64encode(video_file).decode()}\"\n",
    "    return HTML(f\"\"\"<video autoplay width={video_width} controls><source src=\"{video_url}\"></video>\"\"\")"
   ]
  },
  {
   "cell_type": "code",
   "execution_count": null,
   "id": "4174146e",
   "metadata": {
    "scrolled": true
   },
   "outputs": [],
   "source": [
    "sim_time = 5 # in seconds\n",
    "dt = 0.01\n",
    "steps = int(sim_time/dt)\n",
    "frames = []\n",
    "\n",
    "params = np.loadtxt('baseline_params.txt')\n",
    "\n",
    "Myo_env = ReflexCtrInterface.MyoLegReflex()\n",
    "Myo_env.reset()\n",
    "\n",
    "Myo_env.set_control_params(params)\n",
    "\n",
    "for timestep in range(steps):\n",
    "    frame = Myo_env.env.sim.render(width=500, height=500,mode='offscreen',camera_name='front_view')\n",
    "    frames.append(frame[::-1,:,:])\n",
    "    _, isDone, _, _ = Myo_env.run_reflex_step()\n",
    "\n",
    "    if isDone:\n",
    "        print(f\"Stopped at - {timestep}\")\n",
    "        break\n",
    "    \n",
    "skvideo.io.vwrite(\"MyoReflex_output.mp4\", \n",
    "                  np.asarray(frames),inputdict={\"-r\":\"100\"}, outputdict={\"-r\" : \"100\", \"-pix_fmt\": \"yuv420p\"})\n",
    "# show in the notebook\n",
    "show_video(\"MyoReflex_output.mp4\")"
   ]
  },
  {
   "cell_type": "code",
   "execution_count": null,
   "id": "75b0781c",
   "metadata": {},
   "outputs": [],
   "source": []
  }
 ],
 "metadata": {
  "kernelspec": {
   "display_name": "Python 3 (ipykernel)",
   "language": "python",
   "name": "python3"
  },
  "language_info": {
   "codemirror_mode": {
    "name": "ipython",
    "version": 3
   },
   "file_extension": ".py",
   "mimetype": "text/x-python",
   "name": "python",
   "nbconvert_exporter": "python",
   "pygments_lexer": "ipython3",
   "version": "3.8.16"
  }
 },
 "nbformat": 4,
 "nbformat_minor": 5
}
